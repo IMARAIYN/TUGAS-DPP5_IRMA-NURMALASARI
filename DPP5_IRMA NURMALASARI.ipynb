{
 "cells": [
  {
   "cell_type": "code",
   "execution_count": 3,
   "id": "c828097f",
   "metadata": {},
   "outputs": [
    {
     "name": "stdout",
     "output_type": "stream",
     "text": [
      "BIODATA      :\n",
      "NAMA         : IRMA NURMALASARI\n",
      "KELAS        : TI22C\n",
      "NIM          : 20220040127\n",
      "TEMPAT LAHIR : SUKABUMI\n"
     ]
    }
   ],
   "source": [
    "#1. BIODATA\n",
    "f          = (input('BIODATA      '))\n",
    "nama       = (input('NAMA         : '))\n",
    "kelas      = (input('KELAS        : '))\n",
    "nim        = (input('NIM          : '))\n",
    "tmpt_lahir = (input('TEMPAT LAHIR : '))\n"
   ]
  },
  {
   "cell_type": "code",
   "execution_count": 4,
   "id": "38e19a11",
   "metadata": {},
   "outputs": [
    {
     "name": "stdout",
     "output_type": "stream",
     "text": [
      "putra nusa  \n"
     ]
    }
   ],
   "source": [
    "#SOAL NO 2\n",
    "#1.a\n",
    "a = 'UNIVERSITAS NUSA PUTRA SUKABUMI'\n",
    "a = a[12:22]\n",
    "c = a.split()\n",
    "d = list(c)\n",
    "d.reverse()\n",
    "for i in d :\n",
    "    print(i.lower(),end=' ')\n",
    "print(' ')\n"
   ]
  },
  {
   "cell_type": "code",
   "execution_count": 8,
   "id": "2dc97150",
   "metadata": {},
   "outputs": [
    {
     "name": "stdout",
     "output_type": "stream",
     "text": [
      "NIVERSITAS NSA PUTRA SUKABUMI\n"
     ]
    }
   ],
   "source": [
    "#2.b\n",
    "a = 'UNIVERSITAS NUSA PUTRA SUKABUMI'\n",
    "a = a[1:31]\n",
    "b = list(a)\n",
    "b.remove('U')\n",
    "for i in b :\n",
    "    print(i,end='')\n",
    "print('')"
   ]
  },
  {
   "cell_type": "code",
   "execution_count": 2,
   "id": "da971679",
   "metadata": {},
   "outputs": [
    {
     "name": "stdout",
     "output_type": "stream",
     "text": [
      "SUKABUMI PUTRA NUSA UNIVERSITAS  \n"
     ]
    }
   ],
   "source": [
    "#2.c\n",
    "a = 'UNIVERSITAS NUSA PUTRA SUKABUMI'\n",
    "b = a.split()\n",
    "c = list(b)\n",
    "c.reverse()\n",
    "for a in c :\n",
    "    print(a,end=' ')\n",
    "print(' ')"
   ]
  },
  {
   "cell_type": "code",
   "execution_count": 3,
   "id": "ed03b1c6",
   "metadata": {},
   "outputs": [
    {
     "name": "stdout",
     "output_type": "stream",
     "text": [
      "U N P S  \n"
     ]
    }
   ],
   "source": [
    "#2.d\n",
    "a = 'UNIVERSITAS NUSA PUTRA SUKABUMI'\n",
    "b = a.split()\n",
    "c = list(b)\n",
    "for i in c :\n",
    "    print(i[0],end=' ')\n",
    "print(' ')\n",
    "\n"
   ]
  },
  {
   "cell_type": "code",
   "execution_count": 5,
   "id": "4101611d",
   "metadata": {},
   "outputs": [
    {
     "name": "stdout",
     "output_type": "stream",
     "text": [
      "TAS SAPU BUMI\n"
     ]
    }
   ],
   "source": [
    "#2.e\n",
    "a = 'UNIVERSITAS NUSA PUTRA SUKABUMI'\n",
    "b = a.split()\n",
    "c = b[0]\n",
    "d = b[1]\n",
    "e = b[2]\n",
    "f = b[3]\n",
    "print(c[8:11], f'{d[2:4]}{e[0:2]}',f[4:8])"
   ]
  }
 ],
 "metadata": {
  "kernelspec": {
   "display_name": "Python 3 (ipykernel)",
   "language": "python",
   "name": "python3"
  },
  "language_info": {
   "codemirror_mode": {
    "name": "ipython",
    "version": 3
   },
   "file_extension": ".py",
   "mimetype": "text/x-python",
   "name": "python",
   "nbconvert_exporter": "python",
   "pygments_lexer": "ipython3",
   "version": "3.9.12"
  }
 },
 "nbformat": 4,
 "nbformat_minor": 5
}
